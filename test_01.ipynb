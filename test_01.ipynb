{
 "cells": [
  {
   "cell_type": "markdown",
   "metadata": {},
   "source": [
    "## a. Encontrar o número faltante no array: [0, 1, 2, 3, 4, 6, 7, 8, 9]"
   ]
  },
  {
   "cell_type": "code",
   "execution_count": 32,
   "metadata": {},
   "outputs": [
    {
     "name": "stdout",
     "output_type": "stream",
     "text": [
      "Numero faltante: 5\n"
     ]
    }
   ],
   "source": [
    "array = [0, 1, 2, 3, 4, 6, 7, 8, 9]\n",
    "\n",
    "def faltante(arr):\n",
    "    i = 0\n",
    "    for x in arr:\n",
    "        if x != i:\n",
    "            while(i != x):\n",
    "                print(\"Número faltante: {0}\".format(i))\n",
    "                i += 1\n",
    "            i += 1\n",
    "        else:\n",
    "            i += 1\n",
    "\n",
    "faltante(array)"
   ]
  },
  {
   "cell_type": "markdown",
   "metadata": {},
   "source": [
    "## b. Encontrar o número duplicado no array: [0, 1, 2, 3, 4, 5, 6, 6, 7, 8, 9]"
   ]
  },
  {
   "cell_type": "code",
   "execution_count": 119,
   "metadata": {},
   "outputs": [
    {
     "name": "stdout",
     "output_type": "stream",
     "text": [
      "Numero duplicado: 6\n"
     ]
    }
   ],
   "source": [
    "array = [0, 1, 2, 3, 4, 5, 6, 6, 7, 8, 9]\n",
    "\n",
    "def find_duplicate(arr):\n",
    "    lista = []\n",
    "    dupli = []\n",
    "    for x in arr:\n",
    "        if x not in lista:\n",
    "            lista+= [x]\n",
    "        else:\n",
    "            if x not in dupli:\n",
    "                print(\"Número duplicado: {0}\".format(x))\n",
    "            dupli+= [x]\n",
    "\n",
    "find_duplicate(array)"
   ]
  },
  {
   "cell_type": "markdown",
   "metadata": {},
   "source": [
    "## c. Remover os números duplicados no array: [0, 1, 1, 2, 3, 4, 5, 6, 6, 7, 8, 8, 9]"
   ]
  },
  {
   "cell_type": "code",
   "execution_count": 3,
   "metadata": {},
   "outputs": [
    {
     "name": "stdout",
     "output_type": "stream",
     "text": [
      "Lista sem numeros duplicados: [0, 1, 2, 3, 4, 5, 6, 7, 8, 9]\n"
     ]
    }
   ],
   "source": [
    "array = [0, 1, 1, 2, 3, 4, 5, 6, 6, 7, 8, 8, 9]\n",
    "\n",
    "def find_duplicate(arr):\n",
    "    lista = []\n",
    "    dupli = []\n",
    "    for x in arr:\n",
    "        if x not in lista:\n",
    "            lista+= [x]\n",
    "    print(\"Lista sem números duplicados: {0}\".format(lista))\n",
    "\n",
    "find_duplicate(array)"
   ]
  },
  {
   "cell_type": "markdown",
   "metadata": {},
   "source": [
    "## d. Descobrir se duas strings são anagramas . Ex: amor / roma."
   ]
  },
  {
   "cell_type": "code",
   "execution_count": 23,
   "metadata": {},
   "outputs": [
    {
     "name": "stdout",
     "output_type": "stream",
     "text": [
      "Digite a primeira palavra: amor\n",
      "Digite a segunda palavra: roma\n",
      "As duas strings são anagramas!!\n"
     ]
    }
   ],
   "source": [
    "str1 = input(\"Digite a primeira palavra: \")\n",
    "str2 = input(\"Digite a segunda palavra: \")\n",
    "\n",
    "def anagrama(s):\n",
    "    stri_anag = \"\"\n",
    "    i = len(s) - 1\n",
    "    while i >= 0:\n",
    "        stri_anag+= s[i]\n",
    "        i-=1\n",
    "    return stri_anag\n",
    "\n",
    "def compar(x, y):\n",
    "    if x == y:\n",
    "        print(\"As duas strings SÃO anagramas!!\")\n",
    "    else:\n",
    "        print(\"As duas strings NÃO são anagramas!!\")\n",
    "\n",
    "compar(str1, anagrama(str2))"
   ]
  },
  {
   "cell_type": "markdown",
   "metadata": {},
   "source": [
    "## e. Checar se a string contém apenas números. Ex: “13123213” = true , “a233b” = false"
   ]
  },
  {
   "cell_type": "code",
   "execution_count": 31,
   "metadata": {},
   "outputs": [
    {
     "name": "stdout",
     "output_type": "stream",
     "text": [
      "Digite: 13123213\n",
      "A string '13123213' contém apenas números!\n"
     ]
    }
   ],
   "source": [
    "string = input(\"Digite: \")\n",
    "\n",
    "def number_string(s):\n",
    "    try:\n",
    "        float(s)\n",
    "    except ValueError:\n",
    "        return False\n",
    "    return True\n",
    "\n",
    "if number_string(string) == True:\n",
    "    print(\"A string '{0}' contém apenas números!\".format(string))\n",
    "else:\n",
    "    print(\"A string '{0}' NÃO contém apenas números!\".format(string))"
   ]
  }
 ],
 "metadata": {
  "kernelspec": {
   "display_name": "Python 3",
   "language": "python",
   "name": "python3"
  },
  "language_info": {
   "codemirror_mode": {
    "name": "ipython",
    "version": 3
   },
   "file_extension": ".py",
   "mimetype": "text/x-python",
   "name": "python",
   "nbconvert_exporter": "python",
   "pygments_lexer": "ipython3",
   "version": "3.6.7"
  }
 },
 "nbformat": 4,
 "nbformat_minor": 2
}
